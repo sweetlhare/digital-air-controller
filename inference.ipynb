{
 "cells": [
  {
   "cell_type": "code",
   "execution_count": 102,
   "id": "190a3a66-3a94-48e4-85f9-63050dea3ee1",
   "metadata": {},
   "outputs": [],
   "source": [
    "import os\n",
    "import shutil\n",
    "from tqdm import tqdm\n",
    "from random import shuffle\n",
    "import numpy as np\n",
    "import pandas as pd\n",
    "import cv2\n",
    "import matplotlib.pyplot as plt\n",
    "from glob import glob\n",
    "\n",
    "import tensorflow as tf\n",
    "from tensorflow.keras.models import load_model\n",
    "\n",
    "import torch"
   ]
  },
  {
   "cell_type": "code",
   "execution_count": 103,
   "id": "179ccec8-928f-405e-9fab-44ea417c2f57",
   "metadata": {},
   "outputs": [
    {
     "name": "stderr",
     "output_type": "stream",
     "text": [
      "Using cache found in /Users/neironeiro/.cache/torch/hub/ultralytics_yolov5_master\n",
      "YOLOv5 🚀 2021-11-19 torch 1.9.0 CPU\n",
      "\n",
      "Fusing layers... \n",
      "Model Summary: 290 layers, 21172173 parameters, 0 gradients\n",
      "Adding AutoShape... \n"
     ]
    }
   ],
   "source": [
    "detection_model = torch.hub.load('ultralytics/yolov5', 'yolov5m', pretrained=True)\n",
    "params_model = load_model('models/params.h5')\n",
    "dist_model = load_model('models/dist.h5')"
   ]
  },
  {
   "cell_type": "code",
   "execution_count": 104,
   "id": "12023908-6593-4841-ba58-369549e7eed3",
   "metadata": {},
   "outputs": [],
   "source": [
    "def get_detection_bbox(image):\n",
    "    \n",
    "    results = detection_model(image).pandas().xyxy[0]\n",
    "    results = results[results.name == 'airplane']\n",
    "    \n",
    "    try:\n",
    "        x1 = int(results.values[0][0])\n",
    "        y1 = int(results.values[0][1])\n",
    "        x2 = int(results.values[0][2])\n",
    "        y2 = int(results.values[0][3])\n",
    "        return x1, y1, x2, y2\n",
    "    except:\n",
    "        return np.nan, np.nan, np.nan, np.nan, "
   ]
  },
  {
   "cell_type": "code",
   "execution_count": 105,
   "id": "279652f3-c0de-4615-bec8-b81ab440f253",
   "metadata": {},
   "outputs": [],
   "source": [
    "def get_params(image, x1, y1, x2, y2):\n",
    "    \n",
    "#     X = cv2.cvtColor(cv2.imread(path_to_image), cv2.COLOR_BGR2RGB)\n",
    "    X = image.copy()\n",
    "    X = X[int(y1-y1*0.05):int(y2+y2*0.05), int(x1-x1*0.05):int(x2+x2*0.05), :]\n",
    "    X = cv2.resize(X, (300, 150))\n",
    "    X = X / 255.\n",
    "                \n",
    "    pred = params_model.predict(X[np.newaxis, ...])[0]\n",
    "    \n",
    "    return 28*pred[0]-14, 5*pred[1]-2, 66*pred[2]  #  tang, kren, course"
   ]
  },
  {
   "cell_type": "code",
   "execution_count": 106,
   "id": "1413d81c-1ccb-45b2-a94d-eff2b5f50db0",
   "metadata": {},
   "outputs": [],
   "source": [
    "def get_dist(image, x1, y1, x2, y2):\n",
    "            \n",
    "#     X = cv2.cvtColor(cv2.imread(image), cv2.COLOR_BGR2RGB)\n",
    "    X = image.copy()\n",
    "    X2 = np.zeros(X.shape)\n",
    "    X = X[int(y1-y1*0.05):int(y2+y2*0.05), int(x1-x1*0.05):int(x2+x2*0.05), :]\n",
    "    X2[int(y1-y1*0.05):int(y2+y2*0.05), int(x1-x1*0.05):int(x2+x2*0.05), :] = X.copy()\n",
    "    X = cv2.resize(X2, (300, 150)) / 255.\n",
    "    \n",
    "    return round(10000 * dist_model.predict(X[np.newaxis, ...])[0][0], 1)"
   ]
  },
  {
   "cell_type": "code",
   "execution_count": 107,
   "id": "034c1e6a-5341-4a28-a5d7-8d9cabc44134",
   "metadata": {},
   "outputs": [],
   "source": [
    "def predict_all(image):\n",
    "    \n",
    "    x1, y1, x2, y2 = get_detection_bbox(image)\n",
    "    \n",
    "    dist = get_dist(image, x1, y1, x2, y2)\n",
    "    \n",
    "    tang, kren, course = get_params(image, x1, y1, x2, y2)\n",
    "    \n",
    "    x_c = x2 - ((x2 - x1) / 2)\n",
    "    azim = 57.2958 * np.arctan((x_c - image.shape[1]/2) / dist)\n",
    "    \n",
    "    y_c = y2 - ((y2 - y1) / 2)\n",
    "    terr_angle = 57.2958 * np.arctan((y_c - image.shape[0]/2) / dist)\n",
    "    \n",
    "    result = pd.DataFrame([[x1, y1, x2, y2, dist, tang, kren, course, azim, terr_angle]],\n",
    "                          columns=['x1', 'y1', 'x2', 'y2', 'dist', 'tang', 'kren', 'course', 'azim', 'terr_angle'])\n",
    "    return result"
   ]
  },
  {
   "cell_type": "code",
   "execution_count": 108,
   "id": "3bd2f28d-8ac1-477e-bf53-57ccad8b73f5",
   "metadata": {
    "tags": []
   },
   "outputs": [],
   "source": [
    "def predict_video(video_file):\n",
    "\n",
    "    cap = cv2.VideoCapture(video_file)\n",
    "    \n",
    "    frame_width = int(cap.get(3))\n",
    "    frame_height = int(cap.get(4))\n",
    "    \n",
    "    fourcc = cv2.VideoWriter_fourcc(*'MP4V')\n",
    "    out = cv2.VideoWriter('result/{}'.format(video_file), fourcc, 25.0, (frame_width, frame_height))\n",
    "    \n",
    "    result_df = pd.DataFrame()\n",
    "        \n",
    "    while(cap.isOpened()):\n",
    "        \n",
    "        ret, frame = cap.read()\n",
    "        \n",
    "        if ret == True:\n",
    "            \n",
    "            pred_df = predict_all(frame)\n",
    "            result_df = pd.concat([result_df, pred_df], ignore_index=True)\n",
    "            x1, y1, x2, y2 = pred_df[['x1', 'y1', 'x2', 'y2']].values[0]\n",
    "            \n",
    "            frame = cv2.rectangle(frame, (x1, y1), (x2, y2), (0,0,255))\n",
    "            frame = cv2.putText(frame, 'DIST={}'.format(round(pred_df.dist.iloc[0], 3)), \n",
    "                                (30, 50), cv2.FONT_HERSHEY_SIMPLEX, 1, (0,0,255), 2, cv2.LINE_AA)\n",
    "            frame = cv2.putText(frame, 'TANG={}'.format(round(pred_df.tang.iloc[0], 3)), \n",
    "                                (30, 80), cv2.FONT_HERSHEY_SIMPLEX, 1, (0,0,255), 2, cv2.LINE_AA)\n",
    "            frame = cv2.putText(frame, 'KREN={}'.format(round(pred_df.kren.iloc[0], 3)), \n",
    "                                (30, 110), cv2.FONT_HERSHEY_SIMPLEX, 1, (0,0,255), 2, cv2.LINE_AA)\n",
    "            frame = cv2.putText(frame, 'COURSE={}'.format(round(pred_df.course.iloc[0], 3)), \n",
    "                                (30, 140), cv2.FONT_HERSHEY_SIMPLEX, 1, (0,0,255), 2, cv2.LINE_AA)\n",
    "            frame = cv2.putText(frame, 'AZIM={}'.format(round(pred_df.azim.iloc[0], 3)), \n",
    "                                (30, 170), cv2.FONT_HERSHEY_SIMPLEX, 1, (0,0,255), 2, cv2.LINE_AA)\n",
    "            frame = cv2.putText(frame, 'T_ANGLE={}'.format(round(pred_df.terr_angle.iloc[0], 3)), \n",
    "                                (30, 200), cv2.FONT_HERSHEY_SIMPLEX, 1, (0,0,255), 2, cv2.LINE_AA)\n",
    "            \n",
    "            out.write(cv2.resize(frame, (1280, 720)))\n",
    "        \n",
    "        else:\n",
    "            break\n",
    "            \n",
    "    cap.release()\n",
    "    out.release()\n",
    "    \n",
    "    return result_df"
   ]
  },
  {
   "cell_type": "code",
   "execution_count": 109,
   "id": "74eedae1-4bbb-4fd0-8a1e-605565342797",
   "metadata": {},
   "outputs": [
    {
     "name": "stdout",
     "output_type": "stream",
     "text": [
      "CPU times: user 38.1 s, sys: 7.95 s, total: 46.1 s\n",
      "Wall time: 33.4 s\n"
     ]
    }
   ],
   "source": [
    "%%time\n",
    "result_data = predict_video('AirbusA330.mp4')"
   ]
  },
  {
   "cell_type": "code",
   "execution_count": null,
   "id": "9d529be9-dabc-4541-b61d-869bf8f0cfb2",
   "metadata": {},
   "outputs": [],
   "source": []
  },
  {
   "cell_type": "code",
   "execution_count": null,
   "id": "563b3d81-976e-4e1e-9a4c-22357d85c530",
   "metadata": {},
   "outputs": [],
   "source": []
  }
 ],
 "metadata": {
  "kernelspec": {
   "display_name": "Python 3",
   "language": "python",
   "name": "python3"
  },
  "language_info": {
   "codemirror_mode": {
    "name": "ipython",
    "version": 3
   },
   "file_extension": ".py",
   "mimetype": "text/x-python",
   "name": "python",
   "nbconvert_exporter": "python",
   "pygments_lexer": "ipython3",
   "version": "3.9.5"
  }
 },
 "nbformat": 4,
 "nbformat_minor": 5
}
